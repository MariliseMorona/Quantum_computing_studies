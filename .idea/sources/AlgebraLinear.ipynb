{
 "cells": [
  {
   "cell_type": "code",
   "id": "initial_id",
   "metadata": {
    "collapsed": true,
    "ExecuteTime": {
     "end_time": "2025-10-20T02:33:56.297142Z",
     "start_time": "2025-10-20T02:33:54.535770Z"
    }
   },
   "source": [
    "import numpy as np\n",
    "import matplotlib.pyplot as plt\n",
    "\n"
   ],
   "outputs": [],
   "execution_count": 3
  },
  {
   "metadata": {},
   "cell_type": "markdown",
   "source": "",
   "id": "da50adfa4d6b6cc4"
  },
  {
   "metadata": {},
   "cell_type": "markdown",
   "source": "Criando vetores",
   "id": "35f3a1e74d61e0e8"
  },
  {
   "metadata": {
    "ExecuteTime": {
     "end_time": "2025-10-20T02:33:58.378901Z",
     "start_time": "2025-10-20T02:33:58.376216Z"
    }
   },
   "cell_type": "code",
   "source": [
    "vetor1 = np.array([1,2,3])\n",
    "vetor2 = np.array([4,5,6])\n",
    "\n",
    "print(\"Vetor 1:\\n\", vetor1)\n",
    "print(\"Vetor 2:\\n\", vetor2)"
   ],
   "id": "374343fefb0fdb67",
   "outputs": [
    {
     "name": "stdout",
     "output_type": "stream",
     "text": [
      "Vetor 1:  [1 2 3]\n",
      "Vetor 2:  [4 5 6]\n"
     ]
    }
   ],
   "execution_count": 4
  },
  {
   "metadata": {
    "ExecuteTime": {
     "end_time": "2025-10-20T02:35:56.861911Z",
     "start_time": "2025-10-20T02:35:56.857933Z"
    }
   },
   "cell_type": "code",
   "source": [
    "vetor3 = np.array([[1], [2], [3]])\n",
    "vetor4 = np.array([[4], [5], [6]])\n",
    "\n",
    "print(\"Vetor 3:\\n\", vetor3)\n",
    "print(\"Vetor 4:\\n\", vetor4)"
   ],
   "id": "735cc70673ec4751",
   "outputs": [
    {
     "name": "stdout",
     "output_type": "stream",
     "text": [
      "Vetor 3:\n",
      " [[1]\n",
      " [2]\n",
      " [3]]\n",
      "Vetor 4:\n",
      " [[4]\n",
      " [5]\n",
      " [6]]\n"
     ]
    }
   ],
   "execution_count": 7
  },
  {
   "metadata": {},
   "cell_type": "markdown",
   "source": "Criando matrizes",
   "id": "f92562df6836ed97"
  },
  {
   "metadata": {
    "ExecuteTime": {
     "end_time": "2025-10-20T02:39:15.099037Z",
     "start_time": "2025-10-20T02:39:15.094989Z"
    }
   },
   "cell_type": "code",
   "source": [
    "matriz1 = np.array([[1, 2], [3, 4]])\n",
    "matriz2 = np.array([[5, 6], [7, 8]])\n",
    "\n",
    "print(\"Matriz 1:\\n\", matriz1)\n",
    "print(\"Matriz 2:\\n\", matriz2)"
   ],
   "id": "feb3cf395515adec",
   "outputs": [
    {
     "name": "stdout",
     "output_type": "stream",
     "text": [
      "Matriz 1:\n",
      " [[1 2]\n",
      " [3 4]]\n",
      "Matriz 2:\n",
      " [[5 6]\n",
      " [7 8]]\n"
     ]
    }
   ],
   "execution_count": 9
  },
  {
   "metadata": {},
   "cell_type": "markdown",
   "source": [
    "Operações com matrizes\n",
    "\n",
    "Adição: só ocorre em matrizes de mesma ordem"
   ],
   "id": "119d5eeeaab51121"
  },
  {
   "metadata": {
    "ExecuteTime": {
     "end_time": "2025-10-20T02:40:20.201619Z",
     "start_time": "2025-10-20T02:40:20.197980Z"
    }
   },
   "cell_type": "code",
   "source": [
    "matriz_soma = matriz1 + matriz2\n",
    "print(\"Matriz soma:\\n\", matriz_soma)"
   ],
   "id": "5785837cb27a550d",
   "outputs": [
    {
     "name": "stdout",
     "output_type": "stream",
     "text": [
      "Matriz soma: \n",
      " [[ 6  8]\n",
      " [10 12]]\n"
     ]
    }
   ],
   "execution_count": 10
  },
  {
   "metadata": {},
   "cell_type": "markdown",
   "source": "Subtração: só ocorre em matriizes de mesma ordem",
   "id": "6c1c281ba5a455d0"
  },
  {
   "metadata": {
    "ExecuteTime": {
     "end_time": "2025-10-20T02:41:39.787629Z",
     "start_time": "2025-10-20T02:41:39.784328Z"
    }
   },
   "cell_type": "code",
   "source": [
    "matriz_subtracao = matriz1 - matriz2\n",
    "print(\"Matriz subtração:\\n\", matriz_subtracao)"
   ],
   "id": "f69bb40397a48d01",
   "outputs": [
    {
     "name": "stdout",
     "output_type": "stream",
     "text": [
      "Matriz subtração: \n",
      " [[-4 -4]\n",
      " [-4 -4]]\n"
     ]
    }
   ],
   "execution_count": 12
  },
  {
   "metadata": {},
   "cell_type": "markdown",
   "source": "Multiplicação de matrizes: multiplica a linha pela coluna",
   "id": "b34ca1c3b49661a9"
  },
  {
   "metadata": {
    "ExecuteTime": {
     "end_time": "2025-10-20T02:42:35.720045Z",
     "start_time": "2025-10-20T02:42:35.715359Z"
    }
   },
   "cell_type": "code",
   "source": [
    "matriz_multiplicacao = np.dot(matriz1, matriz2)\n",
    "print(\"Matriz multiplicação:\\n\", matriz_multiplicacao)"
   ],
   "id": "b942a88cafd85edc",
   "outputs": [
    {
     "name": "stdout",
     "output_type": "stream",
     "text": [
      "Matriz multiplicação: \n",
      " [[19 22]\n",
      " [43 50]]\n"
     ]
    }
   ],
   "execution_count": 13
  },
  {
   "metadata": {},
   "cell_type": "markdown",
   "source": "Matriz identidade: matriz quadrada, onde o valor da diagonal é o valor unitário (1)  e os demais elementos 0",
   "id": "a3ca08c1495c234c"
  },
  {
   "metadata": {
    "ExecuteTime": {
     "end_time": "2025-10-20T02:44:37.635560Z",
     "start_time": "2025-10-20T02:44:37.631557Z"
    }
   },
   "cell_type": "code",
   "source": [
    "matriz_identidade = np.eye(2)\n",
    "print(\"Matriz identidade:\\n\", matriz_identidade)"
   ],
   "id": "e6b4f88d01a5fc22",
   "outputs": [
    {
     "name": "stdout",
     "output_type": "stream",
     "text": [
      "Matriz identidade: \n",
      " [[1. 0.]\n",
      " [0. 1.]]\n"
     ]
    }
   ],
   "execution_count": 14
  },
  {
   "metadata": {},
   "cell_type": "markdown",
   "source": "Matriz transposta:",
   "id": "769aec6206be804d"
  },
  {
   "metadata": {
    "ExecuteTime": {
     "end_time": "2025-10-20T02:45:44.581173Z",
     "start_time": "2025-10-20T02:45:44.578056Z"
    }
   },
   "cell_type": "code",
   "source": [
    "matriz_transposta = np.transpose(matriz1)\n",
    "print(\"Matriz transposta:\\n\", matriz_transposta)"
   ],
   "id": "2470499bffc8eb38",
   "outputs": [
    {
     "name": "stdout",
     "output_type": "stream",
     "text": [
      "Matriz transposta: \n",
      " [[1 3]\n",
      " [2 4]]\n"
     ]
    }
   ],
   "execution_count": 15
  },
  {
   "metadata": {},
   "cell_type": "markdown",
   "source": "Números complexos",
   "id": "9a5851aaae2068a9"
  },
  {
   "metadata": {
    "ExecuteTime": {
     "end_time": "2025-10-20T02:47:44.126910Z",
     "start_time": "2025-10-20T02:47:44.122135Z"
    }
   },
   "cell_type": "code",
   "source": [
    "complexo1 = np.array([[1 + 2j, 3 + 4j], [5 + 6j, 7 + 8j]])\n",
    "complexo2 = np.array([[1 - 2j, 3 - 4j], [5 - 6j, 7 - 8j]])\n",
    "\n",
    "print(\"Complexos 1:\\n\", complexo1)\n",
    "print(\"Complexo 2:\\n\", complexo2)"
   ],
   "id": "b73e901af41dd8a6",
   "outputs": [
    {
     "name": "stdout",
     "output_type": "stream",
     "text": [
      "Complexos 1: \n",
      " [[1.+2.j 3.+4.j]\n",
      " [5.+6.j 7.+8.j]]\n",
      "Complexo 2: \n",
      " [[1.-2.j 3.-4.j]\n",
      " [5.-6.j 7.-8.j]]\n"
     ]
    }
   ],
   "execution_count": 16
  },
  {
   "metadata": {},
   "cell_type": "markdown",
   "source": "Matriz transposta conjugada (adjunta ou hermitiana): Transpoe a matriz e conjun ela, ao transpor mudamos de linha pra coluna e a o conjugar alteramos o sinal do conjugado",
   "id": "abddd3f59911e0b5"
  },
  {
   "metadata": {
    "ExecuteTime": {
     "end_time": "2025-10-20T02:49:18.323672Z",
     "start_time": "2025-10-20T02:49:18.321502Z"
    }
   },
   "cell_type": "code",
   "source": [
    "matriz_conjugada_transposta = np.conjugate(np.transpose(complexo1))\n",
    "\n",
    "print(\"Matriz Transposta Conjugada:\\n\", matriz_conjugada_transposta)"
   ],
   "id": "d6b4a8583ec3a402",
   "outputs": [
    {
     "name": "stdout",
     "output_type": "stream",
     "text": [
      "Matriz Transposta Conjugada:\n",
      "  [[1.-2.j 5.-6.j]\n",
      " [3.-4.j 7.-8.j]]\n"
     ]
    }
   ],
   "execution_count": 17
  },
  {
   "metadata": {},
   "cell_type": "markdown",
   "source": "Traço da matriz: soma dos elementos da diagonal principal",
   "id": "f67588ffd795b3e9"
  },
  {
   "metadata": {
    "ExecuteTime": {
     "end_time": "2025-10-20T02:52:21.872925Z",
     "start_time": "2025-10-20T02:52:21.869896Z"
    }
   },
   "cell_type": "code",
   "source": [
    "traco_matriz1 = np.trace(matriz1)\n",
    "\n",
    "print(\"Traço da matriz:\\n\", traco_matriz1)"
   ],
   "id": "735282d95e64becc",
   "outputs": [
    {
     "name": "stdout",
     "output_type": "stream",
     "text": [
      "Traço da matriz:\n",
      " 5\n"
     ]
    }
   ],
   "execution_count": 19
  }
 ],
 "metadata": {
  "kernelspec": {
   "display_name": "Python 3",
   "language": "python",
   "name": "python3"
  },
  "language_info": {
   "codemirror_mode": {
    "name": "ipython",
    "version": 2
   },
   "file_extension": ".py",
   "mimetype": "text/x-python",
   "name": "python",
   "nbconvert_exporter": "python",
   "pygments_lexer": "ipython2",
   "version": "2.7.6"
  }
 },
 "nbformat": 4,
 "nbformat_minor": 5
}
