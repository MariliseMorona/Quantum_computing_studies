{
 "cells": [
  {
   "cell_type": "code",
   "id": "initial_id",
   "metadata": {
    "collapsed": true,
    "ExecuteTime": {
     "end_time": "2025-10-20T03:08:51.659400Z",
     "start_time": "2025-10-20T03:08:51.421648Z"
    }
   },
   "source": [
    "import numpy as np\n",
    "import matplotlib.pyplot as plt"
   ],
   "outputs": [],
   "execution_count": 1
  },
  {
   "metadata": {},
   "cell_type": "markdown",
   "source": [
    "Definição do ket:\n",
    "psi $|\\psi\\rangle$\n",
    "phi $|\\phi\\rangle$"
   ],
   "id": "27c4373c0a364a63"
  },
  {
   "metadata": {
    "ExecuteTime": {
     "end_time": "2025-10-20T03:10:40.538706Z",
     "start_time": "2025-10-20T03:10:40.536356Z"
    }
   },
   "cell_type": "code",
   "source": [
    "ket_psi = np.array([[1], [0]])\n",
    "ket_phi = np.array([[0], [1]])"
   ],
   "id": "4af968da2390d90e",
   "outputs": [],
   "execution_count": 3
  },
  {
   "metadata": {},
   "cell_type": "markdown",
   "source": "Exibindo com colchetes",
   "id": "54b840c36aad683f"
  },
  {
   "metadata": {
    "ExecuteTime": {
     "end_time": "2025-10-20T03:16:41.659084Z",
     "start_time": "2025-10-20T03:16:41.655234Z"
    }
   },
   "cell_type": "code",
   "source": [
    "print(\"ket_psi =\\n\", ket_psi)\n",
    "print(\"ket_phi =\\n\", ket_phi)\n",
    "print(\"\")"
   ],
   "id": "2b5de519d77b78a0",
   "outputs": [
    {
     "name": "stdout",
     "output_type": "stream",
     "text": [
      "ket_psi =\n",
      " [[1]\n",
      " [0]]\n",
      "ket_phi =\n",
      " [[0]\n",
      " [1]]\n",
      "\n"
     ]
    }
   ],
   "execution_count": 5
  },
  {
   "metadata": {},
   "cell_type": "markdown",
   "source": "Definição do bra: composto conjugado do ket",
   "id": "a1ce3550329cd65c"
  },
  {
   "metadata": {
    "ExecuteTime": {
     "end_time": "2025-10-20T03:18:23.764690Z",
     "start_time": "2025-10-20T03:18:23.757881Z"
    }
   },
   "cell_type": "code",
   "source": [
    "bra_psi = ket_psi.conj().T\n",
    "bra_phi = ket_phi.conj().T\n",
    "\n",
    "print(\"bra_psi:\\n\", bra_psi)\n",
    "print(\"bra_phi:\\n\", bra_phi)"
   ],
   "id": "a37d3e43db2a168e",
   "outputs": [
    {
     "name": "stdout",
     "output_type": "stream",
     "text": [
      "bra_psi:\n",
      " [[1 0]]\n",
      "bra_phi:\n",
      " [[0 1]]\n"
     ]
    }
   ],
   "execution_count": 6
  },
  {
   "metadata": {},
   "cell_type": "markdown",
   "source": "Produto interno (Bra-Ket)",
   "id": "3b9e59c043142189"
  },
  {
   "metadata": {
    "ExecuteTime": {
     "end_time": "2025-10-20T03:20:28.999588Z",
     "start_time": "2025-10-20T03:20:28.995957Z"
    }
   },
   "cell_type": "code",
   "source": [
    "inner_product = np.dot(bra_psi, ket_phi)\n",
    "print(\"Produto Interno:\\n\", inner_product)"
   ],
   "id": "fb95769e669f212d",
   "outputs": [
    {
     "name": "stdout",
     "output_type": "stream",
     "text": [
      "Produto Interno:\n",
      " [[0]]\n"
     ]
    }
   ],
   "execution_count": 8
  },
  {
   "metadata": {},
   "cell_type": "markdown",
   "source": "Produto Externo (Ket-Bra)",
   "id": "33ba60949c492038"
  },
  {
   "metadata": {
    "ExecuteTime": {
     "end_time": "2025-10-20T03:21:12.772352Z",
     "start_time": "2025-10-20T03:21:12.764808Z"
    }
   },
   "cell_type": "code",
   "source": [
    "outer_product = np.dot(ket_psi, bra_phi)\n",
    "print(\"Produto Externo:\\n\", outer_product)"
   ],
   "id": "5d2b4e986788d191",
   "outputs": [
    {
     "name": "stdout",
     "output_type": "stream",
     "text": [
      "Produto Externo:\n",
      " [[0 1]\n",
      " [0 0]]\n"
     ]
    }
   ],
   "execution_count": 9
  },
  {
   "metadata": {},
   "cell_type": "markdown",
   "source": "Produto Tensorial (Produto de Kroneker)",
   "id": "48a3f370fa4f95e"
  },
  {
   "metadata": {
    "ExecuteTime": {
     "end_time": "2025-10-20T03:22:11.850621Z",
     "start_time": "2025-10-20T03:22:11.844472Z"
    }
   },
   "cell_type": "code",
   "source": [
    "tensor_product = np.kron(ket_psi, ket_phi)\n",
    "print(\"Produto Tensorial:\\n\", tensor_product)"
   ],
   "id": "db5425d3d409075a",
   "outputs": [
    {
     "name": "stdout",
     "output_type": "stream",
     "text": [
      "Produto Tensorial:\n",
      " [[0]\n",
      " [1]\n",
      " [0]\n",
      " [0]]\n"
     ]
    }
   ],
   "execution_count": 10
  }
 ],
 "metadata": {
  "kernelspec": {
   "display_name": "Python 3",
   "language": "python",
   "name": "python3"
  },
  "language_info": {
   "codemirror_mode": {
    "name": "ipython",
    "version": 2
   },
   "file_extension": ".py",
   "mimetype": "text/x-python",
   "name": "python",
   "nbconvert_exporter": "python",
   "pygments_lexer": "ipython2",
   "version": "2.7.6"
  }
 },
 "nbformat": 4,
 "nbformat_minor": 5
}
